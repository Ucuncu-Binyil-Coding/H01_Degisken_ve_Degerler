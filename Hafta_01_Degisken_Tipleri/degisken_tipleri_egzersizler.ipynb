{
 "cells": [
  {
   "cell_type": "markdown",
   "metadata": {},
   "source": [
    "### Egzersizler\n",
    "\n"
   ]
  },
  {
   "cell_type": "code",
   "execution_count": 6,
   "metadata": {},
   "outputs": [
    {
     "name": "stdout",
     "output_type": "stream",
     "text": [
      "Float değişkenim: 2.5365\n",
      "Float değerimin tipi: <class 'float'>\n"
     ]
    }
   ],
   "source": [
    "# 1. Float bir değer tanımlayın, bunu bir değişkene atayın, değişkeni yazdırın, ve son olarak değişkenin tipini yazdırın.\n",
    "\n",
    "# Float değer tanımlayalım\n",
    "2.5365\n",
    "\n",
    "# Bir degiskene atayalım\n",
    "my_float = 2.5365\n",
    "\n",
    "# Değişkeni yazdıralım\n",
    "print(f\"Float değişkenim: {my_float}\")\n",
    "\n",
    "# Değişkenin tipini yazdıralım\n",
    "print(f\"Float değerimin tipi: {type(my_float)}\")"
   ]
  },
  {
   "cell_type": "code",
   "execution_count": 10,
   "metadata": {},
   "outputs": [
    {
     "name": "stdout",
     "output_type": "stream",
     "text": [
      "TC değişkenimin tipi: <class 'str'>\n",
      "Ev değişkenimin tipi: <class 'float'>\n",
      "Cocuk değişkenimin tipi: <class 'int'>\n"
     ]
    }
   ],
   "source": [
    "# 2. Aşağıdaki değişkenlerin mantığına göre tip dönüşümlerini gerçekleştirin.\n",
    "\n",
    "# String'e donusum\n",
    "tc_kimlik_no = 1232343465435\n",
    "tc_kimlik_no_string = str(tc_kimlik_no)\n",
    "print(f\"TC Kimlik No: {tc_kimlik_no}\",f\"TC değişkenimin tipi: {type(tc_kimlik_no_string)}\")\n",
    "\n",
    "# Float'a donusum\n",
    "ev_fiyatı = 120000\n",
    "ev_fiyatı_float = float(ev_fiyatı)\n",
    "print(f\"Ev fiyatı: {ev_fiyatı}\",f\"Ev değişkenimin tipi: {type(ev_fiyatı_float)}\")\n",
    "\n",
    "# Integer'a donusum\n",
    "cocuk_sayisi = 3.5\n",
    "cocuk_sayisi_integer = int(cocuk_sayisi)\n",
    "print(f\"Çocuk sayısı: {cocuk_sayisi}\",f\"Cocuk değişkenimin tipi: {type(cocuk_sayisi_integer)}\")"
   ]
  },
  {
   "cell_type": "code",
   "execution_count": 14,
   "metadata": {},
   "outputs": [
    {
     "name": "stdout",
     "output_type": "stream",
     "text": [
      "30000.0\n",
      "First House cost: 120000.0\n",
      "Second House cost: 190000.0\n"
     ]
    }
   ],
   "source": [
    "default_value:float = 80000.0\n",
    "bedroom:float = 30000.0\n",
    "bathroom:float = 10000.0\n",
    "basement:float = 40000\n",
    "print(bedroom)\n",
    "\n",
    "house_1 = [bedroom,bathroom]\n",
    "house_1_cost = default_value + sum(house_1)\n",
    "print(f\"First House cost: {house_1_cost}\")\n",
    "\n",
    "house_2 = [bedroom,bedroom,bathroom,basement]\n",
    "house_2_cost = default_value + sum(house_2)\n",
    "print(f\"Second House cost: {house_2_cost}\")"
   ]
  },
  {
   "cell_type": "code",
   "execution_count": 15,
   "metadata": {},
   "outputs": [
    {
     "name": "stdout",
     "output_type": "stream",
     "text": [
      "120000.0\n"
     ]
    }
   ],
   "source": [
    "class Ev_1:\n",
    "    yatak_odasi_sayisi = 1\n",
    "    banyo_sayisi = 1\n",
    "    bodrum_varmi = False\n",
    "cost:float = 0.0\n",
    "cost += default_value\n",
    "cost += bedroom * Ev_1.yatak_odasi_sayisi\n",
    "cost += bathroom * Ev_1.banyo_sayisi\n",
    "cost += basement if Ev_1.bodrum_varmi else 0\n",
    "print(cost)"
   ]
  },
  {
   "cell_type": "code",
   "execution_count": 19,
   "metadata": {},
   "outputs": [
    {
     "name": "stdout",
     "output_type": "stream",
     "text": [
      "190000.0\n"
     ]
    }
   ],
   "source": [
    "class Ev_2:\n",
    "    yatak_odasi_sayisi = 2\n",
    "    banyo_sayisi = 1\n",
    "    bodrum_varmi = True\n",
    "cost:float = 0.0\n",
    "cost += default_value\n",
    "cost += bedroom * Ev_2.yatak_odasi_sayisi\n",
    "cost += bathroom * Ev_2.banyo_sayisi\n",
    "cost += basement if Ev_2.bodrum_varmi else 0\n",
    "print(cost)"
   ]
  },
  {
   "cell_type": "code",
   "execution_count": 20,
   "metadata": {},
   "outputs": [],
   "source": [
    "def ev_fiyat_hesapla(yatak_odasi_sayisi,banyo_sayisi,bodrum_varmi=False):\n",
    "    return default_value + (bedroom * yatak_odasi_sayisi) + (bathroom * banyo_sayisi) + (basement if  bodrum_varmi else 0)"
   ]
  },
  {
   "cell_type": "code",
   "execution_count": 22,
   "metadata": {},
   "outputs": [
    {
     "name": "stdout",
     "output_type": "stream",
     "text": [
      "Evin fiyatı: 120000.0\n"
     ]
    }
   ],
   "source": [
    "fiyat = ev_fiyat_hesapla(Ev_1.yatak_odasi_sayisi,Ev_1.banyo_sayisi,Ev_1.bodrum_varmi)\n",
    "print(f\"Evin fiyatı: {fiyat}\")"
   ]
  }
 ],
 "metadata": {
  "kernelspec": {
   "display_name": "sanalortam",
   "language": "python",
   "name": "python3"
  },
  "language_info": {
   "codemirror_mode": {
    "name": "ipython",
    "version": 3
   },
   "file_extension": ".py",
   "mimetype": "text/x-python",
   "name": "python",
   "nbconvert_exporter": "python",
   "pygments_lexer": "ipython3",
   "version": "3.12.1"
  }
 },
 "nbformat": 4,
 "nbformat_minor": 2
}
