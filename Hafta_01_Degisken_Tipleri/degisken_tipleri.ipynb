{
 "cells": [
  {
   "cell_type": "markdown",
   "metadata": {},
   "source": []
  },
  {
   "cell_type": "markdown",
   "metadata": {},
   "source": [
    "### Pythonda oluşturduğumuz her değişkenin bir tipi vardır. Bunlar sırasıyla integer, float, string, boolean olarak 4'e ayrılır. Sırasıyla hepsini inceleyelim."
   ]
  },
  {
   "cell_type": "markdown",
   "metadata": {},
   "source": [
    "### Integers (Tam Sayılar)\n",
    "\n",
    "##### 1, 2, 3, -5, -22 gibi ondalıksız tam sayı tipleridir."
   ]
  },
  {
   "cell_type": "code",
   "execution_count": 5,
   "metadata": {},
   "outputs": [
    {
     "name": "stdout",
     "output_type": "stream",
     "text": [
      "14\n",
      "<class 'int'>\n"
     ]
    }
   ],
   "source": [
    "x = 14\n",
    "print(x)\n",
    "print(type(x))"
   ]
  },
  {
   "cell_type": "markdown",
   "metadata": {},
   "source": [
    "### Float\n",
    "\n",
    "1.4, 1.3, 3.14, 1.0, 1.00, 1. gibi nokta içeren bir ondalıklı sayı tipine deniyor."
   ]
  },
  {
   "cell_type": "code",
   "execution_count": 8,
   "metadata": {},
   "outputs": [
    {
     "name": "stdout",
     "output_type": "stream",
     "text": [
      "5.0\n",
      "<class 'float'>\n"
     ]
    }
   ],
   "source": [
    "bolme = 10 / 2\n",
    "print(bolme)\n",
    "print(type(bolme))"
   ]
  },
  {
   "cell_type": "code",
   "execution_count": 6,
   "metadata": {},
   "outputs": [
    {
     "name": "stdout",
     "output_type": "stream",
     "text": [
      "3.147548732645827\n",
      "<class 'float'>\n"
     ]
    }
   ],
   "source": [
    "neredeyse_pi = 3.1475487326458273456328547\n",
    "print(neredeyse_pi)\n",
    "print(type(neredeyse_pi))"
   ]
  },
  {
   "cell_type": "code",
   "execution_count": 14,
   "metadata": {},
   "outputs": [
    {
     "name": "stdout",
     "output_type": "stream",
     "text": [
      "3.142857142857143\n",
      "<class 'float'>\n",
      "127036520707408\n"
     ]
    }
   ],
   "source": [
    "almost_pi = 22 / 7\n",
    "print(almost_pi)\n",
    "print(type(almost_pi))\n",
    "\n",
    "# almost_pi değişkeninin hafızadaki id'sini görelim.\n",
    "print(id(almost_pi))"
   ]
  },
  {
   "cell_type": "code",
   "execution_count": 15,
   "metadata": {},
   "outputs": [
    {
     "name": "stdout",
     "output_type": "stream",
     "text": [
      "3\n",
      "<class 'int'>\n",
      "127036520707408\n"
     ]
    }
   ],
   "source": [
    "rounded_almost_pi = round(almost_pi)\n",
    "print(rounded_almost_pi)\n",
    "print(type(rounded_almost_pi))\n",
    "\n",
    "# almost_pi değişkeninin hafıdaki id'sini tekrar kontrol edelim.\n",
    "print(id(almost_pi))"
   ]
  },
  {
   "cell_type": "code",
   "execution_count": 17,
   "metadata": {},
   "outputs": [
    {
     "name": "stdout",
     "output_type": "stream",
     "text": [
      "3.14\n",
      "<class 'float'>\n"
     ]
    }
   ],
   "source": [
    "gercek_pi = round(almost_pi,2)\n",
    "print(gercek_pi)\n",
    "print(type(gercek_pi))"
   ]
  },
  {
   "cell_type": "markdown",
   "metadata": {},
   "source": [
    "### Boolean -> True, False\n",
    "\n",
    "##### Boolean tipleri 2 tane değeri temsil eder. -- True, False"
   ]
  },
  {
   "cell_type": "code",
   "execution_count": 20,
   "metadata": {},
   "outputs": [],
   "source": [
    "buyuk_sayi = 5\n",
    "kucuk_sayi = 2\n",
    "ortanca_sayi = 3"
   ]
  },
  {
   "cell_type": "code",
   "execution_count": 22,
   "metadata": {},
   "outputs": [
    {
     "name": "stdout",
     "output_type": "stream",
     "text": [
      "Karşılaştırma'nın sonucu: True\n",
      "Karşılaştırma'nın tipi <class 'bool'>\n"
     ]
    }
   ],
   "source": [
    "karsilastirma1 = buyuk_sayi > kucuk_sayi\n",
    "print(f\"Karşılaştırma'nın sonucu: {karsilastirma1}\")\n",
    "print(f\"Karşılaştırma'nın tipi: {type(karsilastirma1)}\")"
   ]
  },
  {
   "cell_type": "code",
   "execution_count": 24,
   "metadata": {},
   "outputs": [
    {
     "name": "stdout",
     "output_type": "stream",
     "text": [
      "Karşılaştırma'nın sonucu: False\n",
      "Karşılaştırma'nın tipi: <class 'bool'>\n"
     ]
    }
   ],
   "source": [
    "karsilastirma2 = ortanca_sayi < kucuk_sayi\n",
    "print(f\"Karşılaştırma'nın sonucu: {karsilastirma2}\")\n",
    "print(f\"Karşılaştırma'nın tipi: {type(karsilastirma2)}\")"
   ]
  },
  {
   "cell_type": "code",
   "execution_count": 25,
   "metadata": {},
   "outputs": [
    {
     "name": "stdout",
     "output_type": "stream",
     "text": [
      "Karşılaştırma'nın sonucu: False\n",
      "Karşılaştırma'nın tipi: <class 'bool'>\n"
     ]
    }
   ],
   "source": [
    "karsilastirma3 = buyuk_sayi == kucuk_sayi\n",
    "print(f\"Karşılaştırma'nın sonucu: {karsilastirma3}\")\n",
    "print(f\"Karşılaştırma'nın tipi: {type(karsilastirma3)}\") "
   ]
  },
  {
   "cell_type": "code",
   "execution_count": 26,
   "metadata": {},
   "outputs": [
    {
     "name": "stdout",
     "output_type": "stream",
     "text": [
      "Karşılaştırma'nın sonucu: True\n",
      "Karşılaştırma'nın tipi: <class 'bool'>\n"
     ]
    }
   ],
   "source": [
    "karsilastirma4 = ortanca_sayi != buyuk_sayi\n",
    "print(f\"Karşılaştırma'nın sonucu: {karsilastirma4}\")\n",
    "print(f\"Karşılaştırma'nın tipi: {type(karsilastirma4)}\") "
   ]
  },
  {
   "cell_type": "markdown",
   "metadata": {},
   "source": [
    "### True -> 1\n",
    "### False -> 0"
   ]
  },
  {
   "cell_type": "code",
   "execution_count": 29,
   "metadata": {},
   "outputs": [
    {
     "name": "stdout",
     "output_type": "stream",
     "text": [
      "10\n",
      "0\n"
     ]
    }
   ],
   "source": [
    "print(True * 10)\n",
    "print(False * 234325)"
   ]
  },
  {
   "cell_type": "markdown",
   "metadata": {},
   "source": [
    "### String --> Metinsel ifadeler\n",
    "\n",
    "a-z / A-Z , -, +, !-? bütün karakterleri kapsayan bir tiptir."
   ]
  },
  {
   "cell_type": "code",
   "execution_count": 30,
   "metadata": {},
   "outputs": [
    {
     "name": "stdout",
     "output_type": "stream",
     "text": [
      "[<class 'str'>, <class 'str'>, <class 'str'>, <class 'str'>, <class 'str'>]\n"
     ]
    }
   ],
   "source": [
    "string1 = \"benim adım emre.\"\n",
    "string2 = \"19/01/2001\"\n",
    "string3 = \"43912437946\"\n",
    "string4 = \"TR23543253453456\"\n",
    "string5 = \"yunusemrek558@gmail.com\"\n",
    "types = [type(string) for string in [string1,string2,string3,string4,string5]]\n",
    "print(types)"
   ]
  },
  {
   "cell_type": "markdown",
   "metadata": {},
   "source": [
    "### Tip dönüşümleri"
   ]
  },
  {
   "cell_type": "markdown",
   "metadata": {},
   "source": [
    "* string -> str()\n",
    "* integer -> int()\n",
    "* float -> float()\n",
    "* boolean -> bool()"
   ]
  },
  {
   "cell_type": "code",
   "execution_count": 1,
   "metadata": {},
   "outputs": [],
   "source": [
    "benim_string_degerim = \"String değer\"\n",
    "benim_float_degerim = 1.234"
   ]
  },
  {
   "cell_type": "code",
   "execution_count": 2,
   "metadata": {},
   "outputs": [],
   "source": [
    "simdi_integer_degerim = int(benim_float_degerim)"
   ]
  },
  {
   "cell_type": "code",
   "execution_count": 4,
   "metadata": {},
   "outputs": [
    {
     "name": "stdout",
     "output_type": "stream",
     "text": [
      "{\n",
      "  \"N1\": {\n",
      "    \"hr\": 0.049518,\n",
      "    \"cost\": 7.92288\n",
      "  },\n",
      "  \"N2\": {\n",
      "    \"hr\": 0.049617,\n",
      "    \"cost\": 7.93872\n",
      "  },\n",
      "  \"E2\": {\n",
      "    \"hr\": 0.034235,\n",
      "    \"cost\": 5.477600000000001\n",
      "  },\n",
      "  \"A2\": {\n",
      "    \"hr\": 0.049369,\n",
      "    \"cost\": 7.89904\n",
      "  },\n",
      "  \"G2\": {\n",
      "    \"hr\": 0.039221,\n",
      "    \"cost\": 6.27536\n",
      "  }\n",
      "}\n"
     ]
    }
   ],
   "source": [
    "servers = {\n",
    "    \"N1\":{\"hr\":0.049518},\n",
    "    \"N2\":{\"hr\":0.049617},\n",
    "    \"E2\":{\"hr\":0.034235},\n",
    "    \"A2\":{\"hr\":0.049369},\n",
    "    \"G2\":{\"hr\":0.039221}\n",
    "}\n",
    "haftalik_calisma_saati = 40\n",
    "ayda_hafta = 4\n",
    "\n",
    "for k,v in servers.items():\n",
    "    servers[k][\"cost\"] = servers[k][\"hr\"] * haftalik_calisma_saati * ayda_hafta\n",
    "\n",
    "import json\n",
    "\n",
    "print(json.dumps(servers,indent=2))\n"
   ]
  },
  {
   "cell_type": "markdown",
   "metadata": {},
   "source": [
    "### Tip Dönüşümlerinin Önemi\n",
    "\n",
    "Pythonda her sabit değerin bir tipi vardır. Bunu zaten biliyoruz. Aynı zamanda her tipin de bir fonksiyonu vardır. Bunu da yukarıda gördük. Pythonda her tipin kendine özel gelen methodları vardır. Ve her tipin kendi özel işlem kısıtları vardır."
   ]
  },
  {
   "cell_type": "markdown",
   "metadata": {},
   "source": [
    "# Tip Dönüşümleri"
   ]
  },
  {
   "cell_type": "code",
   "execution_count": null,
   "metadata": {},
   "outputs": [
    {
     "name": "stdout",
     "output_type": "stream",
     "text": [
      "1.23423\n",
      "<class 'str'>\n"
     ]
    }
   ],
   "source": [
    "benim_numaram_string = \"1.23423\"\n",
    "print(benim_numaram_string)\n",
    "print(type(benim_numaram_string))"
   ]
  },
  {
   "cell_type": "code",
   "execution_count": null,
   "metadata": {},
   "outputs": [
    {
     "name": "stdout",
     "output_type": "stream",
     "text": [
      "1.23423\n",
      "<class 'float'>\n"
     ]
    }
   ],
   "source": [
    "benim_numaram_float = float(benim_numaram_string)\n",
    "print(benim_numaram_float)\n",
    "print(type(benim_numaram_float))"
   ]
  },
  {
   "cell_type": "code",
   "execution_count": null,
   "metadata": {},
   "outputs": [
    {
     "name": "stdout",
     "output_type": "stream",
     "text": [
      "1.23423\n",
      "1.23423\n"
     ]
    }
   ],
   "source": [
    "print(benim_numaram_string)\n",
    "print(benim_numaram_float)"
   ]
  },
  {
   "cell_type": "code",
   "execution_count": null,
   "metadata": {},
   "outputs": [
    {
     "ename": "TypeError",
     "evalue": "can only concatenate str (not \"int\") to str",
     "output_type": "error",
     "traceback": [
      "\u001b[0;31m---------------------------------------------------------------------------\u001b[0m\n",
      "\u001b[0;31mTypeError\u001b[0m                                 Traceback (most recent call last)\n",
      "Cell \u001b[0;32mIn[24], line 1\u001b[0m\n",
      "\u001b[0;32m----> 1\u001b[0m \u001b[38;5;28mprint\u001b[39m(\u001b[43mbenim_numaram_string\u001b[49m\u001b[43m \u001b[49m\u001b[38;5;241;43m+\u001b[39;49m\u001b[43m \u001b[49m\u001b[38;5;241;43m5\u001b[39;49m) \u001b[38;5;66;03m# 1.23423 + 5\u001b[39;00m\n",
      "\n",
      "\u001b[0;31mTypeError\u001b[0m: can only concatenate str (not \"int\") to str"
     ]
    }
   ],
   "source": [
    "print(benim_numaram_string + 5) # 1.23423 + 5 String ile İnteger'ı Toplayamazsın"
   ]
  },
  {
   "cell_type": "code",
   "execution_count": null,
   "metadata": {},
   "outputs": [
    {
     "name": "stdout",
     "output_type": "stream",
     "text": [
      "1.23423 Benim string Numaramdır.\n"
     ]
    }
   ],
   "source": [
    "print(benim_numaram_string + ' Benim string Numaramdır.')"
   ]
  },
  {
   "cell_type": "code",
   "execution_count": null,
   "metadata": {},
   "outputs": [
    {
     "name": "stdout",
     "output_type": "stream",
     "text": [
      "6.23423\n"
     ]
    }
   ],
   "source": [
    "# Stringden floata dönüştürdüğüm değişkenle yukarda yapmış olduğum aynı işlemi yapalım\n",
    "print(benim_numaram_float + 5) # 1.23423 + 5 = 6.23423"
   ]
  },
  {
   "cell_type": "code",
   "execution_count": null,
   "metadata": {},
   "outputs": [
    {
     "name": "stdout",
     "output_type": "stream",
     "text": [
      "2.46846\n"
     ]
    }
   ],
   "source": [
    "print(benim_numaram_float + benim_numaram_float) # 1.23423 + 1.23423"
   ]
  },
  {
   "cell_type": "code",
   "execution_count": null,
   "metadata": {},
   "outputs": [
    {
     "ename": "ValueError",
     "evalue": "could not convert string to float: 'emre123'",
     "output_type": "error",
     "traceback": [
      "\u001b[0;31m---------------------------------------------------------------------------\u001b[0m\n",
      "\u001b[0;31mValueError\u001b[0m                                Traceback (most recent call last)\n",
      "Cell \u001b[0;32mIn[29], line 2\u001b[0m\n",
      "\u001b[1;32m      1\u001b[0m metin \u001b[38;5;241m=\u001b[39m \u001b[38;5;124m'\u001b[39m\u001b[38;5;124memre123\u001b[39m\u001b[38;5;124m'\u001b[39m\n",
      "\u001b[0;32m----> 2\u001b[0m metin_float \u001b[38;5;241m=\u001b[39m \u001b[38;5;28;43mfloat\u001b[39;49m\u001b[43m(\u001b[49m\u001b[43mmetin\u001b[49m\u001b[43m)\u001b[49m\n",
      "\u001b[1;32m      3\u001b[0m \u001b[38;5;28mprint\u001b[39m(metin_float)\n",
      "\n",
      "\u001b[0;31mValueError\u001b[0m: could not convert string to float: 'emre123'"
     ]
    }
   ],
   "source": [
    "metin = 'emre123'\n",
    "metin_float = float(metin)\n",
    "print(metin_float)"
   ]
  },
  {
   "cell_type": "markdown",
   "metadata": {},
   "source": [
    "### İntegerdan Floata ya da Float'dan İntegera Dönüşümler Rahatlıkla Yapılır."
   ]
  },
  {
   "cell_type": "code",
   "execution_count": null,
   "metadata": {},
   "outputs": [
    {
     "name": "stdout",
     "output_type": "stream",
     "text": [
      "\n",
      "        N1 İşlemcinin Bana Aylık Getiriceği Masraf: 7.92288$'dır.\n",
      "        N2 İşlemcinin Bana Aylık Getiriceği Masraf: 7.93872$'dır.\n",
      "        E2 İşlemcinin Bana Aylık Getiriceği Masraf: 5.477600000000001$'dır.\n",
      "        A2 İşlemcinin Bana Aylık Getiriceği Masraf: 7.87744$'dır.\n",
      "        G2 İşlemcinin Bana Aylık Getiriceği Masraf: 6.27536$'dır.\n",
      "\n",
      "\n"
     ]
    }
   ],
   "source": [
    "# Cloud Masraf Hesaplama Programı\n",
    "N1 = 0.049518\n",
    "N2 = 0.049617\n",
    "E2 = 0.034235\n",
    "A2 = 0.049234\n",
    "G2 = 0.039221\n",
    "\n",
    "haftalik_calisma_saatim = 40\n",
    "ayda_hafta = 4\n",
    "\n",
    "N1_masraf_sonuc = N1 * haftalik_calisma_saatim * 4\n",
    "N2_masraf_sonuc = N2 * haftalik_calisma_saatim * 4\n",
    "E2_masraf_sonuc = E2 * haftalik_calisma_saatim * 4\n",
    "A2_masraf_sonuc = A2 * haftalik_calisma_saatim * 4\n",
    "G2_masraf_sonuc = G2 * haftalik_calisma_saatim * 4\n",
    "\n",
    "print(f\"\"\"\n",
    "        N1 İşlemcinin Bana Aylık Getiriceği Masraf: {N1_masraf_sonuc}$'dır.\n",
    "        N2 İşlemcinin Bana Aylık Getiriceği Masraf: {N2_masraf_sonuc}$'dır.\n",
    "        E2 İşlemcinin Bana Aylık Getiriceği Masraf: {E2_masraf_sonuc}$'dır.\n",
    "        A2 İşlemcinin Bana Aylık Getiriceği Masraf: {A2_masraf_sonuc}$'dır.\n",
    "        G2 İşlemcinin Bana Aylık Getiriceği Masraf: {G2_masraf_sonuc}$'dır.\n",
    "\n",
    "\"\"\")"
   ]
  },
  {
   "cell_type": "code",
   "execution_count": null,
   "metadata": {},
   "outputs": [
    {
     "name": "stdout",
     "output_type": "stream",
     "text": [
      "\n",
      "        N1 İşlemcinin Bana Aylık Getiriceği Masraf: 103.0$'dır.\n",
      "        N2 İşlemcinin Bana Aylık Getiriceği Masraf: 103.2$'dır.\n",
      "        E2 İşlemcinin Bana Aylık Getiriceği Masraf: 71.21$'dır.\n",
      "        A2 İşlemcinin Bana Aylık Getiriceği Masraf: 102.41$'dır.\n",
      "        G2 İşlemcinin Bana Aylık Getiriceği Masraf: 81.58$'dır.\n",
      "\n",
      "\n"
     ]
    }
   ],
   "source": [
    "# HATALI Cloud Masraf Hesaplama Programı\n",
    "N1 = 0.049518\n",
    "N2 = 0.049617\n",
    "E2 = 0.034235\n",
    "A2 = 0.049234\n",
    "G2 = 0.039221\n",
    "\n",
    "haftalik_calisma_saatim = 40\n",
    "yılda_hafta = 52\n",
    "\n",
    "\n",
    "N1_masraf_sonuc = N1 * haftalik_calisma_saatim * yılda_hafta\n",
    "N2_masraf_sonuc = N2 * haftalik_calisma_saatim * yılda_hafta\n",
    "E2_masraf_sonuc = E2 * haftalik_calisma_saatim * yılda_hafta\n",
    "A2_masraf_sonuc = A2 * haftalik_calisma_saatim * yılda_hafta\n",
    "G2_masraf_sonuc = G2 * haftalik_calisma_saatim * yılda_hafta\n",
    "\n",
    "N1_masraf_sonuc = round(N1_masraf_sonuc,2)\n",
    "N2_masraf_sonuc = round(N2_masraf_sonuc,2)\n",
    "E2_masraf_sonuc = round(E2_masraf_sonuc,2)\n",
    "A2_masraf_sonuc = round(A2_masraf_sonuc,2)\n",
    "G2_masraf_sonuc = round(G2_masraf_sonuc,2)\n",
    "\n",
    "print(f\"\"\"\n",
    "        N1 İşlemcinin Bana Aylık Getiriceği Masraf: {N1_masraf_sonuc}$'dır.\n",
    "        N2 İşlemcinin Bana Aylık Getiriceği Masraf: {N2_masraf_sonuc}$'dır.\n",
    "        E2 İşlemcinin Bana Aylık Getiriceği Masraf: {E2_masraf_sonuc}$'dır.\n",
    "        A2 İşlemcinin Bana Aylık Getiriceği Masraf: {A2_masraf_sonuc}$'dır.\n",
    "        G2 İşlemcinin Bana Aylık Getiriceği Masraf: {G2_masraf_sonuc}$'dır.\n",
    "\n",
    "\"\"\")"
   ]
  },
  {
   "cell_type": "code",
   "execution_count": null,
   "metadata": {},
   "outputs": [
    {
     "name": "stdout",
     "output_type": "stream",
     "text": [
      "\n",
      "        N1 İşlemcinin Bana Aylık Getiriceği Masraf: 7$'dır.\n",
      "        N2 İşlemcinin Bana Aylık Getiriceği Masraf: 7$'dır.\n",
      "        E2 İşlemcinin Bana Aylık Getiriceği Masraf: 5$'dır.\n",
      "        A2 İşlemcinin Bana Aylık Getiriceği Masraf: 7$'dır.\n",
      "        G2 İşlemcinin Bana Aylık Getiriceği Masraf: 6$'dır.\n",
      "\n",
      "\n"
     ]
    }
   ],
   "source": [
    "# EN HATALI Cloud Masraf Hesaplama Programı\n",
    "N1 = 0.049518\n",
    "N2 = 0.049617\n",
    "E2 = 0.034235\n",
    "A2 = 0.049234\n",
    "G2 = 0.039221\n",
    "\n",
    "haftalik_calisma_saatim = 40\n",
    "ayda_hafta = 4\n",
    "\n",
    "N1_masraf_sonuc = N1 * haftalik_calisma_saatim * 4\n",
    "N2_masraf_sonuc = N2 * haftalik_calisma_saatim * 4\n",
    "E2_masraf_sonuc = E2 * haftalik_calisma_saatim * 4\n",
    "A2_masraf_sonuc = A2 * haftalik_calisma_saatim * 4\n",
    "G2_masraf_sonuc = G2 * haftalik_calisma_saatim * 4\n",
    "\n",
    "N1_masraf_sonuc = int(N1_masraf_sonuc)\n",
    "N2_masraf_sonuc = int(N2_masraf_sonuc)\n",
    "E2_masraf_sonuc = int(E2_masraf_sonuc)\n",
    "A2_masraf_sonuc = int(A2_masraf_sonuc)\n",
    "G2_masraf_sonuc = int(G2_masraf_sonuc)\n",
    "\n",
    "print(f\"\"\"\n",
    "        N1 İşlemcinin Bana Aylık Getiriceği Masraf: {N1_masraf_sonuc}$'dır.\n",
    "        N2 İşlemcinin Bana Aylık Getiriceği Masraf: {N2_masraf_sonuc}$'dır.\n",
    "        E2 İşlemcinin Bana Aylık Getiriceği Masraf: {E2_masraf_sonuc}$'dır.\n",
    "        A2 İşlemcinin Bana Aylık Getiriceği Masraf: {A2_masraf_sonuc}$'dır.\n",
    "        G2 İşlemcinin Bana Aylık Getiriceği Masraf: {G2_masraf_sonuc}$'dır.\n",
    "\n",
    "\"\"\")"
   ]
  },
  {
   "cell_type": "markdown",
   "metadata": {},
   "source": []
  },
  {
   "cell_type": "markdown",
   "metadata": {},
   "source": [
    "---"
   ]
  },
  {
   "cell_type": "code",
   "execution_count": 2,
   "metadata": {},
   "outputs": [],
   "source": [
    "string = \"Hello World\"\n",
    "integer = 369\n",
    "float = 3.1475234\n",
    "listo = [1,2,3,\"text\",[\"another_one_string_element_list\"]]\n",
    "dicto = {\"key\":\"value\",\"another\":\"one\",\"listem\":listo,\"dictception\":{\"oh\":\"a dict!\"}}"
   ]
  },
  {
   "cell_type": "code",
   "execution_count": null,
   "metadata": {},
   "outputs": [],
   "source": []
  }
 ],
 "metadata": {
  "kernelspec": {
   "display_name": "sanalortam",
   "language": "python",
   "name": "python3"
  },
  "language_info": {
   "codemirror_mode": {
    "name": "ipython",
    "version": 3
   },
   "file_extension": ".py",
   "mimetype": "text/x-python",
   "name": "python",
   "nbconvert_exporter": "python",
   "pygments_lexer": "ipython3",
   "version": "3.12.1"
  }
 },
 "nbformat": 4,
 "nbformat_minor": 2
}
