{
 "cells": [
  {
   "cell_type": "code",
   "execution_count": 2,
   "id": "954596f6",
   "metadata": {},
   "outputs": [],
   "source": [
    "import statistics"
   ]
  },
  {
   "cell_type": "markdown",
   "id": "319e1f39-52c1-4206-a372-f237d1a40229",
   "metadata": {},
   "source": [
    "SORU1"
   ]
  },
  {
   "cell_type": "markdown",
   "id": "26f43a7a-3c8e-4309-a7fd-9ac7d8706b50",
   "metadata": {},
   "source": [
    "Bir öğrencinin aldığı üç sınav notunun ortalamasını hesaplayan kodu yazın."
   ]
  },
  {
   "cell_type": "code",
   "execution_count": 20,
   "id": "7ed474fd-69ff-4c69-a972-c938e5501f2e",
   "metadata": {},
   "outputs": [
    {
     "name": "stdout",
     "output_type": "stream",
     "text": [
      "Öğrencinin ortalam notu 56'dır.\n"
     ]
    }
   ],
   "source": [
    "# Notları belirleyelim\n",
    "not_1 = 45\n",
    "not_2 = 88\n",
    "not_3 = 36\n",
    "\n",
    "# Notları bir listeye toplayalım\n",
    "notlar = [not_1, not_2, not_3]\n",
    "\n",
    "# Notların ortalamasını hesaplayalım\n",
    "ortalama = statistics.mean(notlar)\n",
    "\n",
    "# Ortalamayı integer tipine çevirelim\n",
    "integer_ortalama = int(ortalama)\n",
    "\n",
    "# Ortalamayı yazdıralım\n",
    "print(f\"Öğrencinin ortalam notu {integer_ortalama}'dır.\")"
   ]
  },
  {
   "cell_type": "markdown",
   "id": "b35c15e9-1895-41fd-bd23-9403f957735d",
   "metadata": {},
   "source": [
    "SORU2"
   ]
  },
  {
   "cell_type": "markdown",
   "id": "62a96523-e992-452a-b958-9d4671582e84",
   "metadata": {},
   "source": [
    "Bir string'in uzunluğunu bulun.\n"
   ]
  },
  {
   "cell_type": "code",
   "execution_count": 18,
   "id": "f8e72b37-7a10-435f-aa51-a6c96fdf1e3b",
   "metadata": {},
   "outputs": [
    {
     "name": "stdout",
     "output_type": "stream",
     "text": [
      "Belirlediğimiz string'in uzunluğu '17' karakterdir.\n"
     ]
    }
   ],
   "source": [
    "# Bir string belirleyelim\n",
    "bir_string = \"Bu bir stringdir.\"\n",
    "\n",
    "# Stringing uzunluğunu bulalım\n",
    "uzunluk = len(bir_string)\n",
    "\n",
    "# String'in uzunluğunu yazdıralım\n",
    "print(f\"Belirlediğimiz string'in uzunluğu '{uzunluk}' karakterdir.\")"
   ]
  },
  {
   "cell_type": "markdown",
   "id": "33a18af7-0514-44b9-8337-2deedb0af1ed",
   "metadata": {},
   "source": [
    "SORU3"
   ]
  },
  {
   "cell_type": "markdown",
   "id": "83c3bebe-994b-4a80-80ec-23b2166af041",
   "metadata": {},
   "source": [
    "Bir float sayıyı bir tam sayıya yuvarlayın.\n"
   ]
  },
  {
   "cell_type": "code",
   "execution_count": 10,
   "id": "a8e5d2c0-df91-4bfc-b94d-7f5e7138fda0",
   "metadata": {},
   "outputs": [
    {
     "name": "stdout",
     "output_type": "stream",
     "text": [
      "Float sayım: 0.1089727\n",
      "Round kullanarak: 0\n",
      "Int kullanarak: 0\n"
     ]
    }
   ],
   "source": [
    "# Bir float sayı belirleyelim\n",
    "bir_float_sayi = 60.1089727\n",
    "print(f\"Float sayım: {bir_float_sayi}\")\n",
    "\n",
    "# Float'u tam sayıya yuvarlayalım\n",
    "# Method 1:\n",
    "tam_float = round(bir_float_sayi)  # ndigits belirlemedik\n",
    "print(f\"Round kullanarak: {tam_float}\")\n",
    "\n",
    "# Method 2:\n",
    "int_float = int(bir_float_sayi) # Yine tam sayı değer aldık\n",
    "print(f\"Int kullanarak: {int_float}\")"
   ]
  },
  {
   "cell_type": "markdown",
   "id": "4936edfa-e0a9-4490-96cd-2991f3d0082c",
   "metadata": {},
   "source": [
    "SORU4"
   ]
  },
  {
   "cell_type": "markdown",
   "id": "174fcf74-ab02-4b29-9f1a-23ef3bc34840",
   "metadata": {},
   "source": [
    "İki float sayının çarpımını hesaplayın."
   ]
  },
  {
   "cell_type": "code",
   "execution_count": 16,
   "id": "3717c5ca-2e53-409e-b2f8-3bea251e50e2",
   "metadata": {},
   "outputs": [
    {
     "name": "stdout",
     "output_type": "stream",
     "text": [
      "1.48 ve 0.92 floatlarının çarpımı 1.3616000000000001'dır.\n"
     ]
    }
   ],
   "source": [
    "# İki adet float belirleyelim\n",
    "float_1 = 1.48\n",
    "float_2 = 0.92\n",
    "\n",
    "# Float sayıları çarpalım\n",
    "sonuc = float_1 * float_2\n",
    "\n",
    "# Sonucu yazdıralım\n",
    "print(f\"{float_1} ve {float_2} floatlarının çarpımı {sonuc}'dır.\")"
   ]
  },
  {
   "cell_type": "markdown",
   "id": "3f8407c6-efad-439d-bbfd-7312fca88072",
   "metadata": {},
   "source": [
    "SORU5"
   ]
  },
  {
   "cell_type": "markdown",
   "id": "bf1b564e-52ab-42b1-b653-a9db1665cd5b",
   "metadata": {},
   "source": [
    "İki değerin eşit olup olmadığını kontrol edin."
   ]
  },
  {
   "cell_type": "code",
   "execution_count": 15,
   "id": "558d76d9-5ac8-40a0-9be0-4433df547867",
   "metadata": {},
   "outputs": [
    {
     "name": "stdout",
     "output_type": "stream",
     "text": [
      "Birinci değer: Mahmut\n",
      "İkinci değer: 99.134\n",
      "Eşitliğininin kontrolü: False\n"
     ]
    }
   ],
   "source": [
    "# 2 adet rastgele değer belirleyelim\n",
    "birinci_deger = \"Mahmut\"\n",
    "ikinci_değer = 99.134\n",
    "\n",
    "# Değerlerin eşitliğini kontrol edelim\n",
    "kontrol = birinci_deger == ikinci_değer\n",
    "\n",
    "# Çıkan değeri yazdıralım\n",
    "print(f\"Birinci değer: {birinci_deger}\\nİkinci değer: {ikinci_değer}\\nEşitliğininin kontrolü: {kontrol}\")"
   ]
  }
 ],
 "metadata": {
  "kernelspec": {
   "display_name": "sanalortam",
   "language": "python",
   "name": "python3"
  },
  "language_info": {
   "codemirror_mode": {
    "name": "ipython",
    "version": 3
   },
   "file_extension": ".py",
   "mimetype": "text/x-python",
   "name": "python",
   "nbconvert_exporter": "python",
   "pygments_lexer": "ipython3",
   "version": "3.12.1"
  }
 },
 "nbformat": 4,
 "nbformat_minor": 5
}
