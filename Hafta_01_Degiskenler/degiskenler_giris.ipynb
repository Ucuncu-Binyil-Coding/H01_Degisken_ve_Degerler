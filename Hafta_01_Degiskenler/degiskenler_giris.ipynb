{
 "cells": [
  {
   "cell_type": "markdown",
   "metadata": {},
   "source": [
    "# Largest"
   ]
  },
  {
   "cell_type": "markdown",
   "metadata": {},
   "source": [
    "## Middle size"
   ]
  },
  {
   "cell_type": "markdown",
   "metadata": {},
   "source": [
    "### Smallest"
   ]
  },
  {
   "cell_type": "markdown",
   "metadata": {},
   "source": [
    "This is *muted* by default.\n",
    "\n",
    "This is **bold** text.\n",
    "\n",
    "This is an _italic_ text.\n",
    "\n",
    "This is a `code` block.\n",
    "\n",
    "This is a link to [Google](https://www.google.com).\n",
    "\n",
    "This is a quote: \"I'm a quote\"\n",
    "\n",
    "This is a list:\n",
    "- Item 1\n",
    "- Item 2"
   ]
  },
  {
   "cell_type": "code",
   "execution_count": 6,
   "metadata": {},
   "outputs": [
    {
     "data": {
      "text/plain": [
       "'Hello World!'"
      ]
     },
     "execution_count": 6,
     "metadata": {},
     "output_type": "execute_result"
    }
   ],
   "source": [
    "\"Hello World!\""
   ]
  },
  {
   "cell_type": "code",
   "execution_count": 7,
   "metadata": {},
   "outputs": [
    {
     "name": "stdout",
     "output_type": "stream",
     "text": [
      "Hello World!\n"
     ]
    }
   ],
   "source": [
    "print(\"Hello World!\")"
   ]
  },
  {
   "cell_type": "markdown",
   "metadata": {},
   "source": [
    "Python Yapı Taşları\n",
    "- Sabitler\n",
    "    * Herhangi bir değerin sabit olarak tanımlanmasıdır. Örneğin 3.14159, \"Emre\". Buradaki değerler sabitlerdir.\n",
    "- Fonksiyonlar\n",
    "    * Birden fazla işlemi yapmak için bir iş yığınını tek bir işleve(fonksiyona) çevirerek daha anlaşılabilir ve daha küçük kodlar yazabiliriz.\n",
    "- Değişkenler\n",
    "    * Değişkenler, herhangi bir değerni saklanmasına yardımcı olan değişkenlerdir. Örneğin \"isim\", \"yas\", ve \"şehir\" değişkenleri."
   ]
  },
  {
   "cell_type": "markdown",
   "metadata": {},
   "source": [
    "### Sabitler"
   ]
  },
  {
   "cell_type": "code",
   "execution_count": 4,
   "metadata": {},
   "outputs": [
    {
     "name": "stdout",
     "output_type": "stream",
     "text": [
      "Hello world etc.\n"
     ]
    }
   ],
   "source": [
    "print(\"Hello\",\"world\",\"etc.\")"
   ]
  },
  {
   "cell_type": "markdown",
   "metadata": {},
   "source": [
    "Operation - symbol - example\n",
    "Addition: + (1 + 2 = 3)\n",
    "Substraction: - (2 - 1 = 1)\n",
    "Multiplication: * (4 * 2 = 8)\n",
    "Division: / (6 / 2 = 3)\n",
    "Exponent: ** (3 ** 3 = 27)\n",
    "Mod: % (10 % 3 = 1)"
   ]
  },
  {
   "cell_type": "markdown",
   "metadata": {},
   "source": [
    "### Değişkenler\n"
   ]
  },
  {
   "cell_type": "code",
   "execution_count": 5,
   "metadata": {},
   "outputs": [
    {
     "name": "stdout",
     "output_type": "stream",
     "text": [
      "Emre\n"
     ]
    }
   ],
   "source": [
    "isim = \"Emre\"\n",
    "print(isim)"
   ]
  },
  {
   "cell_type": "code",
   "execution_count": 6,
   "metadata": {},
   "outputs": [
    {
     "name": "stdout",
     "output_type": "stream",
     "text": [
      "8\n"
     ]
    }
   ],
   "source": [
    "toplama = 5 + 3\n",
    "print(toplama)"
   ]
  },
  {
   "cell_type": "code",
   "execution_count": 7,
   "metadata": {},
   "outputs": [
    {
     "name": "stdout",
     "output_type": "stream",
     "text": [
      "4\n"
     ]
    }
   ],
   "source": [
    "cikarma = 8 - 4\n",
    "print(cikarma)"
   ]
  },
  {
   "cell_type": "code",
   "execution_count": 8,
   "metadata": {},
   "outputs": [
    {
     "name": "stdout",
     "output_type": "stream",
     "text": [
      "20\n"
     ]
    }
   ],
   "source": [
    "carpma = 10 * 2\n",
    "print(carpma)"
   ]
  },
  {
   "cell_type": "code",
   "execution_count": 9,
   "metadata": {},
   "outputs": [
    {
     "name": "stdout",
     "output_type": "stream",
     "text": [
      "5.0\n"
     ]
    }
   ],
   "source": [
    "bolme = 10 / 2\n",
    "print(bolme)"
   ]
  },
  {
   "cell_type": "code",
   "execution_count": 10,
   "metadata": {},
   "outputs": [
    {
     "name": "stdout",
     "output_type": "stream",
     "text": [
      "78.5\n"
     ]
    }
   ],
   "source": [
    "# print(3.14 * 5 * 5)\n",
    "\n",
    "pi = 3.14\n",
    "r = 5\n",
    "print(pi*r*r)"
   ]
  },
  {
   "cell_type": "code",
   "execution_count": 13,
   "metadata": {},
   "outputs": [
    {
     "name": "stdout",
     "output_type": "stream",
     "text": [
      "4 yıldaki saniye 126144000\n"
     ]
    }
   ],
   "source": [
    "# print(4 * 365.25 * 24 * 60 * 60)\n",
    "\n",
    "# 4 yılda kaç saniye olduğunu gösteren program\n",
    "\n",
    "yil_sayisi = 4\n",
    "yil_gun_sayisi = 365\n",
    "gun_saat_sayisi = 24\n",
    "saat_dakika_sayisi = 60\n",
    "dakika_saniye_sayisi = 60\n",
    "sonuc = yil_sayisi * yil_gun_sayisi * gun_saat_sayisi * saat_dakika_sayisi * dakika_saniye_sayisi\n",
    "print(f\"4 yıldaki saniye {sonuc}\")"
   ]
  },
  {
   "cell_type": "code",
   "execution_count": 19,
   "metadata": {},
   "outputs": [
    {
     "name": "stdout",
     "output_type": "stream",
     "text": [
      "4 yılda doğan bebek sayısı: 365000\n"
     ]
    }
   ],
   "source": [
    "# 4 yılda kaç tane bebek doğduğunu hesaplayın. Günde 250 bebek doğuyor.\n",
    "\n",
    "# Bu degiskenler zaten tanımlanmıştı.\n",
    "# yil_sayisi = 4\n",
    "# yil_gun_sayisi = 365\n",
    "\n",
    "gunde_dogan_bebek_sayisi = 250 # Sadece günde doğan bebek sayısını tanımladık.\n",
    "\n",
    "# yilda_dogan = yil_gun_sayisi * gunde_bebek_dogumu\n",
    "# dort_yilda_dogan = yil_sayisi * yilda_dogan \n",
    "\n",
    "dort_yilda_dogan_bebek_sayisi = yil_sayisi * yil_gun_sayisi * gunde_dogan_bebek_sayisi\n",
    "\n",
    "print(f\"4 yılda doğan bebek sayısı: {dort_yilda_dogan_bebek_sayisi}\") \n"
   ]
  },
  {
   "cell_type": "code",
   "execution_count": 20,
   "metadata": {},
   "outputs": [
    {
     "name": "stdout",
     "output_type": "stream",
     "text": [
      "Daire'nin alani: 113.04\n"
     ]
    }
   ],
   "source": [
    "# Bir dairenin alanının hesaplayan bir kod yazın. \n",
    "# pi * r ** 2\n",
    "\n",
    "pi = 3.14\n",
    "r = 6\n",
    "daire_alani = pi * r ** 2\n",
    "\n",
    "print(f\"Daire'nin alani: {daire_alani}\")"
   ]
  },
  {
   "cell_type": "code",
   "execution_count": 22,
   "metadata": {},
   "outputs": [
    {
     "name": "stdout",
     "output_type": "stream",
     "text": [
      "Kare'nin alani: 64\n"
     ]
    }
   ],
   "source": [
    "# Bir karenin alanını hesaplayan bir kod yazın. \n",
    "# kenar ** 2\n",
    "\n",
    "kenar = 8\n",
    "kare_alani = kenar ** 2\n",
    "\n",
    "print(f\"Kare'nin alani: {kare_alani}\")"
   ]
  },
  {
   "cell_type": "code",
   "execution_count": 23,
   "metadata": {},
   "outputs": [
    {
     "name": "stdout",
     "output_type": "stream",
     "text": [
      "Dikdörtgen'nin alani: 20\n"
     ]
    }
   ],
   "source": [
    "# Bir dikdörtgen'in alanını hesaplayan bir kod yazın. \n",
    "# kısa_kenar * uzun_kenar\n",
    "\n",
    "kisa_kenar = 4\n",
    "uzun_kenar = 5\n",
    "dikdortgen_alani = kisa_kenar * uzun_kenar\n",
    "\n",
    "print(f\"Dikdörtgen'nin alani: {dikdortgen_alani}\")"
   ]
  },
  {
   "cell_type": "markdown",
   "metadata": {},
   "source": [
    "----\n"
   ]
  },
  {
   "cell_type": "code",
   "execution_count": 16,
   "metadata": {},
   "outputs": [],
   "source": [
    "string = \"Hello World\"\n",
    "integer = 369\n",
    "listo = [1,2,3,\"text\",[\"another_one_string_element_list\"]]\n",
    "dicto = {\"key\":\"value\",\"another\":\"one\",\"listem\":listo,\"dictception\":{\"oh\":\"a dict!\"}}"
   ]
  },
  {
   "cell_type": "code",
   "execution_count": null,
   "metadata": {},
   "outputs": [],
   "source": []
  }
 ],
 "metadata": {
  "kernelspec": {
   "display_name": "sanalortam",
   "language": "python",
   "name": "python3"
  },
  "language_info": {
   "codemirror_mode": {
    "name": "ipython",
    "version": 3
   },
   "file_extension": ".py",
   "mimetype": "text/x-python",
   "name": "python",
   "nbconvert_exporter": "python",
   "pygments_lexer": "ipython3",
   "version": "3.12.1"
  }
 },
 "nbformat": 4,
 "nbformat_minor": 2
}
